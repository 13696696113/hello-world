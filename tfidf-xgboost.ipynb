{
 "cells": [
  {
   "cell_type": "code",
   "execution_count": 1,
   "id": "general-hardware",
   "metadata": {},
   "outputs": [
    {
     "name": "stdout",
     "output_type": "stream",
     "text": [
      "97384 ['7岁11月 男 患者 因 代诉 发现 血糖高 年 控制 不佳 天 入院 入院 后 查体 身高 体重 血压 神清 精神 可 颈软 甲状腺 不 大 双肺 呼吸 音粗 未闻 及 干湿 性 啰 音 心率 次 分 律齐 腹软 无 压痛 反跳痛 肝 脾 肋 下 未及 双下肢 无 水肿 双侧 膝 反射 未 引出 双侧 足 背 动脉 搏动 正常 病理 征', '47岁 男 表格 辅助 检查表 内容 暂缺 发现 血糖 升高 年余 年余前 患者 因 头晕 乏力 伴多 饮 多尿 就诊 于 当地 县 医院 诊断 为 糖尿病 给予 优思灵 治疗 具体 剂量 不详 治疗 月 后 改为 门冬 胰岛素 注射液 早 晚 但 患者 血糖 波动 较大 为求 进一步 诊治 遂 来 我院 门诊 拟 型 糖尿病 收住 我科 病程 中 患者 饮食 睡眠 尚可 大小便 基本 正常 体重 无 明显 改变']\n",
      "97384 ['1型糖尿病', '1型糖尿病']\n",
      "13177 ['3岁 男 我院 门诊 查 血常规 示 急诊 生化 尿酸 血糖 钠 余肝 肾功能 未见异常 咳嗽 天 腹泻 天 患儿 缘于 天前 出现 咳嗽 阵发性 咳嗽 无昼 轻夜重 咳时 无 面红耳赤 咳末 无 鸡鸣 样 回声 喉中 痰 鸣 鼻塞 流涕 发热 温度 达 无 寒战 抽搐 口服 退热药 后 可降 至 正常 无喘 憋 无 皮疹 于 当地 诊所 给予 头孢 等 口服 治疗 后 患儿 仍 有 咳嗽 明显 咳嗽 剧烈 时伴 呕吐 呕吐物 为 胃 内容 物 不 含 胆汁 及 咖啡 样 物质 量 中等 天前 患儿 出现 腹泻 大便 稀 水样 无 粘液 脓血 伴 呕吐 未予 特殊 处理 今为求 进一步 治疗 就诊 于 我院 门诊 查 血常规 示 急诊 生化 尿酸 血糖 钠 余肝 肾功能 未见异常 收入 院 治疗 患儿 自发 以来 发热 间期 精神 稍差 饮食 差 睡眠 好 大便 如上所述 尿量 不少', '55岁 岁 女 无 发热 呕吐 天 患者 天前 受凉 后 出现 发热 体温 最高 伴 寒战 无 胸闷 气喘 伴 恶心 呕吐 无 明显 咳嗽 咳痰 无 胸痛 咯血 无 心慌 呼吸困难 无 腹痛 腹胀 腹泻 无 尿频 尿急 尿痛 及 血尿 无 皮疹 下肢 水肿 为 进一步 诊治 就诊 于 我院 急诊 给予 抗感染 退热 治疗 头孢曲松 左 氧氟沙星 双氯芬 酸钠 症状 无 慢性 好转 急诊 以 发热 查因 收入 院 起病 以来 患者 精神 食欲 睡眠 差 大小便 正常 体力 下降 体重 无 明显 变化']\n",
      "13177 ['支气管炎', '支气管炎']\n",
      "11906 ['58岁 岁 女 武汉市 中医医院 胸片 左上 肺 可疑 结节 灶 武汉市 中医医院 甲状腺 功能 甲状腺 抗体 无 异常 咳嗽 咳痰 月余 患者 月余 前 无 明显 诱因 出现 咳嗽 起初 咳 少量 白痰 后以 干咳 为主 受凉 后 咳嗽 加重 轻度 喘息 活动 后 加重 无 咯血 无 发热 盗汗 无 胸闷 胸痛 无 头昏 头痛 意识 障碍 无 恶心 呕吐 腹痛 腹泻 无 皮疹 及 四肢 关节 肿痛 服用 中药 治疗 月余 症状 无 明显好转 今为 进一步 诊治 就诊 于 我院 门诊 以 咳嗽 查因 收入 院 发病 以来 患者 精神 食欲 睡眠 一般 大小便 正常 体力 体重 无 明显 改变', '38/30月 女 表格 辅助 检查表 内容 日 血常规 白细胞 总数 中性 粒细胞 百分比 淋巴细胞 百分比 中性 粒细胞 绝对值 血红蛋白 血小板 日 肝肾 功能 电解质 呼吸道 病原 抗体 未见 明显 异常 日 胸片 支气管 肺炎 咳嗽 余天 咳痰 天 发热 天 患儿 余天 前 与 咳嗽 患者 接触 后 其 奶奶 和 母亲 开始 出现 咳嗽 初 不 剧烈 每次 咳嗽 声 每日 次 不 伴有 咳痰 及 发热 未 进行 特殊 治疗 天前 患儿 咳嗽 较前 有所 加重 伴有 喘 憋 就诊 于 完善 胸片 检查 提示 支气管 肺炎 予以 阿 糖腺苷 抗病毒 治疗 天后 出院 出院 后 患儿 仍 有 咳嗽 咳痰 偶有 黄 脓痰 为求 进一步 治疗 就诊 我院 门诊 予以 阿奇 霉素 抗感染 治疗 天 患儿 咳嗽 咳痰 较前 未见 明显好转 今日 出现 发热 最高 体温 摄氏度 不 伴有 畏寒 寒战 拟以 支气管 肺炎 收住 我科 病程 中 患儿 精神 可 吃奶 正常 二便 正常 近期 体重 未见 明显 下降']\n",
      "11906 ['支气管炎', '支气管炎']\n",
      "122467 122467\n"
     ]
    }
   ],
   "source": [
    "import csv\n",
    "\n",
    "# 读取csv\n",
    "train_text = []\n",
    "train_label = []\n",
    "with open(\"C:\\\\Users\\\\22174\\\\Desktop\\\\train.csv\", encoding='utf-8') as conll:\n",
    "    f = csv.DictReader(conll)\n",
    "    for x in f:\n",
    "        train_label.append(x['\\ufefflabel'])\n",
    "        train_text.append(x['ques'])\n",
    "print(len(train_text), train_text[:2])\n",
    "print(len(train_label), train_label[:2])\n",
    "\n",
    "dev_text = []\n",
    "dev_label = []\n",
    "with open(\"C:\\\\Users\\\\22174\\\\Desktop\\\\dev.csv\", encoding='utf-8') as conll:\n",
    "    f = csv.DictReader(conll)\n",
    "    for x in f:\n",
    "        dev_label.append(x['\\ufefflabel'])\n",
    "        dev_text.append(x['ques'])\n",
    "print(len(dev_text), dev_text[:2])\n",
    "print(len(dev_label), dev_label[:2])\n",
    "\n",
    "test_text = []\n",
    "test_label = []\n",
    "with open(\"C:\\\\Users\\\\22174\\\\Desktop\\\\test.csv\", encoding='utf-8') as conll:\n",
    "    f = csv.DictReader(conll)\n",
    "    for x in f:\n",
    "        test_label.append(x['\\ufefflabel'])\n",
    "        test_text.append(x['ques'])\n",
    "print(len(test_text), test_text[:2])\n",
    "print(len(test_label), test_label[:2])\n",
    "\n",
    "word_seg_list = []\n",
    "word_seg_list += train_text\n",
    "word_seg_list += dev_text\n",
    "word_seg_list += test_text\n",
    "label = []\n",
    "label += train_label\n",
    "label += dev_label\n",
    "label += test_label\n",
    "print(len(word_seg_list), len(label))"
   ]
  },
  {
   "cell_type": "code",
   "execution_count": 5,
   "id": "documented-reservoir",
   "metadata": {},
   "outputs": [
    {
     "name": "stdout",
     "output_type": "stream",
     "text": [
      "The length of train Data is: 700\n",
      "The length of test Data is: 300\n"
     ]
    }
   ],
   "source": [
    "#切分数据\n",
    "\n",
    "from sklearn.model_selection import train_test_split\n",
    "from sklearn.feature_extraction.text import TfidfVectorizer\n",
    "\n",
    "# label = total_data['reason']\n",
    "train_x, test_x, y_train, y_test = train_test_split(word_seg_list[:1000], label[:1000], test_size=0.3, random_state=1)\n",
    "\n",
    "#tf-idf\n",
    "vectorizer = TfidfVectorizer(min_df=1)\n",
    "X_train = vectorizer.fit_transform(train_x)\n",
    "terms = vectorizer.get_feature_names()\n",
    "X_test = vectorizer.transform(test_x)\n",
    "\n",
    "#打印出原始样本集、训练集和测试集的数目\n",
    "print(\"The length of train Data is:\", X_train.shape[0])\n",
    "print(\"The length of test Data is:\", X_test.shape[0])\n"
   ]
  },
  {
   "cell_type": "code",
   "execution_count": null,
   "id": "sublime-shoulder",
   "metadata": {},
   "outputs": [],
   "source": [
    "import tensorflow as tf\n",
    "class LrModel(object):\n",
    "    def __init__(self,config,seq_length):\n",
    "        self.config=config\n",
    "        self.seq_length=seq_length\n",
    "        self.lr()\n",
    "    def lr(self):\n",
    "        self.x=tf.placeholder(tf.float32, [None, self.seq_length])\n",
    "        w = tf.Variable(tf.zeros([self.seq_length, self.config.num_classes]))\n",
    "        b = tf.Variable(tf.zeros([self.config.num_classes]))\n",
    "        y=tf.nn.softmax(tf.matmul(self.x,w)+b)\n",
    "        self._pred_cls=tf.argmax(y,1)\n",
    "        self.y_=tf.placeholder(tf.float32, [None, self.config.num_classes])\n",
    "        #交叉熵\n",
    "        cross_entropy=tf.reduce_mean(-tf.reduce_sum(self.y_*tf.log(y),reduction_indices=[1]))\n",
    "        self.loss=tf.reduce_mean(cross_entropy)\n",
    "        self.train_step=tf.train.GradientDescentOptimizer(0.5).minimize(cross_entropy)\n",
    "        correct_prediction=tf.equal(tf.argmax(y,1),tf.argmax(self.y_,1))\n",
    "        self.accuracy=tf.reduce_mean(tf.cast(correct_prediction,tf.float32))\n"
   ]
  },
  {
   "cell_type": "code",
   "execution_count": 15,
   "id": "protecting-psychology",
   "metadata": {},
   "outputs": [
    {
     "name": "stderr",
     "output_type": "stream",
     "text": [
      "D:\\Detect_AZ\\anaconda3\\lib\\site-packages\\xgboost\\sklearn.py:1224: UserWarning: The use of label encoder in XGBClassifier is deprecated and will be removed in a future release. To remove this warning, do the following: 1) Pass option use_label_encoder=False when constructing XGBClassifier object; and 2) Encode your labels (y) as integers starting with 0, i.e. 0, 1, 2, ..., [num_class - 1].\n",
      "  warnings.warn(label_encoder_deprecation_msg, UserWarning)\n"
     ]
    },
    {
     "name": "stdout",
     "output_type": "stream",
     "text": [
      "[23:22:18] WARNING: D:\\bld\\xgboost-split_1634712635879\\work\\src\\learner.cc:576: \n",
      "Parameters: { \"num_classes\" } might not be used.\n",
      "\n",
      "  This could be a false alarm, with some parameters getting used by language bindings but\n",
      "  then being mistakenly passed down to XGBoost core, or some parameter actually being used\n",
      "  but getting flagged wrongly here. Please open an issue if you find any such cases.\n",
      "\n",
      "\n",
      "[23:22:18] WARNING: D:\\bld\\xgboost-split_1634712635879\\work\\src\\learner.cc:1115: Starting in XGBoost 1.3.0, the default evaluation metric used with the objective 'multi:softprob' was changed from 'merror' to 'mlogloss'. Explicitly set eval_metric if you'd like to restore the old behavior.\n",
      "训练集合上R^2 = 1.000\n",
      "测试集合上R^2 = 0.643\n",
      "Wall time: 1.41 s\n"
     ]
    }
   ],
   "source": [
    "%%time\n",
    "\n",
    "from xgboost import XGBClassifier\n",
    "from sklearn.metrics import precision_score, recall_score, f1_score\n",
    "from sklearn.metrics import classification_report\n",
    "\n",
    "model_xgb = XGBClassifier(objective='multi:softprob', num_classes=350).fit(X_train, y_train)\n",
    "y_pred = model_xgb.predict(X_test)\n",
    "y_pred_p = model_xgb.predict_proba(X_test)\n",
    "\n",
    "print(\"训练集合上R^2 = {:.3f}\".format(model_xgb.score(X_train, y_train)))\n",
    "print(\"测试集合上R^2 = {:.3f}\".format(model_xgb.score(X_test, y_test)))\n",
    "\n"
   ]
  },
  {
   "cell_type": "code",
   "execution_count": 14,
   "id": "respiratory-warrant",
   "metadata": {},
   "outputs": [
    {
     "name": "stdout",
     "output_type": "stream",
     "text": [
      "(300,)\n",
      "(300, 3)\n"
     ]
    }
   ],
   "source": [
    "print(y_pred.shape)\n",
    "print(y_pred_p.shape)"
   ]
  },
  {
   "cell_type": "code",
   "execution_count": 16,
   "id": "subtle-patio",
   "metadata": {},
   "outputs": [
    {
     "name": "stdout",
     "output_type": "stream",
     "text": [
      "300\n",
      "准确率: 0.6433333333333333\n",
      "召回率: 0.6433333333333333\n",
      "fl-score: 0.6433333333333333\n"
     ]
    },
    {
     "name": "stderr",
     "output_type": "stream",
     "text": [
      "D:\\Detect_AZ\\anaconda3\\lib\\site-packages\\sklearn\\utils\\validation.py:63: FutureWarning: Arrays of bytes/strings is being converted to decimal numbers if dtype='numeric'. This behavior is deprecated in 0.24 and will be removed in 1.1 (renaming of 0.26). Please convert your data to numeric values explicitly instead.\n",
      "  return f(*args, **kwargs)\n"
     ]
    },
    {
     "ename": "ValueError",
     "evalue": "Unable to convert array of bytes/strings into decimal numbers with dtype='numeric'",
     "output_type": "error",
     "traceback": [
      "\u001b[1;31m---------------------------------------------------------------------------\u001b[0m",
      "\u001b[1;31mValueError\u001b[0m                                Traceback (most recent call last)",
      "\u001b[1;32mD:\\Detect_AZ\\anaconda3\\lib\\site-packages\\sklearn\\utils\\validation.py\u001b[0m in \u001b[0;36mcheck_array\u001b[1;34m(array, accept_sparse, accept_large_sparse, dtype, order, copy, force_all_finite, ensure_2d, allow_nd, ensure_min_samples, ensure_min_features, estimator)\u001b[0m\n\u001b[0;32m    652\u001b[0m             \u001b[1;32mtry\u001b[0m\u001b[1;33m:\u001b[0m\u001b[1;33m\u001b[0m\u001b[1;33m\u001b[0m\u001b[0m\n\u001b[1;32m--> 653\u001b[1;33m                 \u001b[0marray\u001b[0m \u001b[1;33m=\u001b[0m \u001b[0marray\u001b[0m\u001b[1;33m.\u001b[0m\u001b[0mastype\u001b[0m\u001b[1;33m(\u001b[0m\u001b[0mnp\u001b[0m\u001b[1;33m.\u001b[0m\u001b[0mfloat64\u001b[0m\u001b[1;33m)\u001b[0m\u001b[1;33m\u001b[0m\u001b[1;33m\u001b[0m\u001b[0m\n\u001b[0m\u001b[0;32m    654\u001b[0m             \u001b[1;32mexcept\u001b[0m \u001b[0mValueError\u001b[0m \u001b[1;32mas\u001b[0m \u001b[0me\u001b[0m\u001b[1;33m:\u001b[0m\u001b[1;33m\u001b[0m\u001b[1;33m\u001b[0m\u001b[0m\n",
      "\u001b[1;31mValueError\u001b[0m: could not convert string to float: '2型糖尿病伴并发症'",
      "\nThe above exception was the direct cause of the following exception:\n",
      "\u001b[1;31mValueError\u001b[0m                                Traceback (most recent call last)",
      "\u001b[1;32m<ipython-input-16-5a5dcf280f3b>\u001b[0m in \u001b[0;36m<module>\u001b[1;34m\u001b[0m\n\u001b[0;32m      4\u001b[0m \u001b[0mprint\u001b[0m\u001b[1;33m(\u001b[0m\u001b[1;34m\"召回率:\"\u001b[0m\u001b[1;33m,\u001b[0m \u001b[0mrecall_score\u001b[0m\u001b[1;33m(\u001b[0m\u001b[0my_test\u001b[0m\u001b[1;33m,\u001b[0m \u001b[0my_pred\u001b[0m\u001b[1;33m,\u001b[0m \u001b[0maverage\u001b[0m\u001b[1;33m=\u001b[0m\u001b[1;34m'micro'\u001b[0m\u001b[1;33m)\u001b[0m\u001b[1;33m)\u001b[0m\u001b[1;33m\u001b[0m\u001b[1;33m\u001b[0m\u001b[0m\n\u001b[0;32m      5\u001b[0m \u001b[0mprint\u001b[0m\u001b[1;33m(\u001b[0m\u001b[1;34m\"fl-score:\"\u001b[0m\u001b[1;33m,\u001b[0m \u001b[0mf1_score\u001b[0m\u001b[1;33m(\u001b[0m\u001b[0my_test\u001b[0m\u001b[1;33m,\u001b[0m \u001b[0my_pred\u001b[0m\u001b[1;33m,\u001b[0m \u001b[0maverage\u001b[0m\u001b[1;33m=\u001b[0m\u001b[1;34m'micro'\u001b[0m\u001b[1;33m)\u001b[0m\u001b[1;33m)\u001b[0m\u001b[1;33m\u001b[0m\u001b[1;33m\u001b[0m\u001b[0m\n\u001b[1;32m----> 6\u001b[1;33m \u001b[0mprint\u001b[0m\u001b[1;33m(\u001b[0m\u001b[1;34m'top3: '\u001b[0m\u001b[1;33m,\u001b[0m \u001b[0mtop_k_accuracy_score\u001b[0m\u001b[1;33m(\u001b[0m\u001b[0my_test\u001b[0m\u001b[1;33m,\u001b[0m \u001b[0my_pred\u001b[0m\u001b[1;33m,\u001b[0m \u001b[0mk\u001b[0m\u001b[1;33m=\u001b[0m\u001b[1;36m3\u001b[0m\u001b[1;33m)\u001b[0m\u001b[1;33m)\u001b[0m\u001b[1;33m\u001b[0m\u001b[1;33m\u001b[0m\u001b[0m\n\u001b[0m\u001b[0;32m      7\u001b[0m \u001b[1;33m\u001b[0m\u001b[0m\n\u001b[0;32m      8\u001b[0m \u001b[0mprint\u001b[0m\u001b[1;33m(\u001b[0m\u001b[0mclassification_report\u001b[0m\u001b[1;33m(\u001b[0m\u001b[0my_test\u001b[0m\u001b[1;33m,\u001b[0m \u001b[0my_pred\u001b[0m\u001b[1;33m)\u001b[0m\u001b[1;33m)\u001b[0m\u001b[1;33m\u001b[0m\u001b[1;33m\u001b[0m\u001b[0m\n",
      "\u001b[1;32mD:\\Detect_AZ\\anaconda3\\lib\\site-packages\\sklearn\\metrics\\_ranking.py\u001b[0m in \u001b[0;36mtop_k_accuracy_score\u001b[1;34m(y_true, y_score, k, normalize, sample_weight, labels)\u001b[0m\n\u001b[0;32m   1647\u001b[0m     \u001b[0my_true\u001b[0m \u001b[1;33m=\u001b[0m \u001b[0mcolumn_or_1d\u001b[0m\u001b[1;33m(\u001b[0m\u001b[0my_true\u001b[0m\u001b[1;33m)\u001b[0m\u001b[1;33m\u001b[0m\u001b[1;33m\u001b[0m\u001b[0m\n\u001b[0;32m   1648\u001b[0m     \u001b[0my_type\u001b[0m \u001b[1;33m=\u001b[0m \u001b[0mtype_of_target\u001b[0m\u001b[1;33m(\u001b[0m\u001b[0my_true\u001b[0m\u001b[1;33m)\u001b[0m\u001b[1;33m\u001b[0m\u001b[1;33m\u001b[0m\u001b[0m\n\u001b[1;32m-> 1649\u001b[1;33m     \u001b[0my_score\u001b[0m \u001b[1;33m=\u001b[0m \u001b[0mcheck_array\u001b[0m\u001b[1;33m(\u001b[0m\u001b[0my_score\u001b[0m\u001b[1;33m,\u001b[0m \u001b[0mensure_2d\u001b[0m\u001b[1;33m=\u001b[0m\u001b[1;32mFalse\u001b[0m\u001b[1;33m)\u001b[0m\u001b[1;33m\u001b[0m\u001b[1;33m\u001b[0m\u001b[0m\n\u001b[0m\u001b[0;32m   1650\u001b[0m     \u001b[0my_score\u001b[0m \u001b[1;33m=\u001b[0m \u001b[0mcolumn_or_1d\u001b[0m\u001b[1;33m(\u001b[0m\u001b[0my_score\u001b[0m\u001b[1;33m)\u001b[0m \u001b[1;32mif\u001b[0m \u001b[0my_type\u001b[0m \u001b[1;33m==\u001b[0m \u001b[1;34m'binary'\u001b[0m \u001b[1;32melse\u001b[0m \u001b[0my_score\u001b[0m\u001b[1;33m\u001b[0m\u001b[1;33m\u001b[0m\u001b[0m\n\u001b[0;32m   1651\u001b[0m     \u001b[0mcheck_consistent_length\u001b[0m\u001b[1;33m(\u001b[0m\u001b[0my_true\u001b[0m\u001b[1;33m,\u001b[0m \u001b[0my_score\u001b[0m\u001b[1;33m,\u001b[0m \u001b[0msample_weight\u001b[0m\u001b[1;33m)\u001b[0m\u001b[1;33m\u001b[0m\u001b[1;33m\u001b[0m\u001b[0m\n",
      "\u001b[1;32mD:\\Detect_AZ\\anaconda3\\lib\\site-packages\\sklearn\\utils\\validation.py\u001b[0m in \u001b[0;36minner_f\u001b[1;34m(*args, **kwargs)\u001b[0m\n\u001b[0;32m     61\u001b[0m             \u001b[0mextra_args\u001b[0m \u001b[1;33m=\u001b[0m \u001b[0mlen\u001b[0m\u001b[1;33m(\u001b[0m\u001b[0margs\u001b[0m\u001b[1;33m)\u001b[0m \u001b[1;33m-\u001b[0m \u001b[0mlen\u001b[0m\u001b[1;33m(\u001b[0m\u001b[0mall_args\u001b[0m\u001b[1;33m)\u001b[0m\u001b[1;33m\u001b[0m\u001b[1;33m\u001b[0m\u001b[0m\n\u001b[0;32m     62\u001b[0m             \u001b[1;32mif\u001b[0m \u001b[0mextra_args\u001b[0m \u001b[1;33m<=\u001b[0m \u001b[1;36m0\u001b[0m\u001b[1;33m:\u001b[0m\u001b[1;33m\u001b[0m\u001b[1;33m\u001b[0m\u001b[0m\n\u001b[1;32m---> 63\u001b[1;33m                 \u001b[1;32mreturn\u001b[0m \u001b[0mf\u001b[0m\u001b[1;33m(\u001b[0m\u001b[1;33m*\u001b[0m\u001b[0margs\u001b[0m\u001b[1;33m,\u001b[0m \u001b[1;33m**\u001b[0m\u001b[0mkwargs\u001b[0m\u001b[1;33m)\u001b[0m\u001b[1;33m\u001b[0m\u001b[1;33m\u001b[0m\u001b[0m\n\u001b[0m\u001b[0;32m     64\u001b[0m \u001b[1;33m\u001b[0m\u001b[0m\n\u001b[0;32m     65\u001b[0m             \u001b[1;31m# extra_args > 0\u001b[0m\u001b[1;33m\u001b[0m\u001b[1;33m\u001b[0m\u001b[1;33m\u001b[0m\u001b[0m\n",
      "\u001b[1;32mD:\\Detect_AZ\\anaconda3\\lib\\site-packages\\sklearn\\utils\\validation.py\u001b[0m in \u001b[0;36mcheck_array\u001b[1;34m(array, accept_sparse, accept_large_sparse, dtype, order, copy, force_all_finite, ensure_2d, allow_nd, ensure_min_samples, ensure_min_features, estimator)\u001b[0m\n\u001b[0;32m    653\u001b[0m                 \u001b[0marray\u001b[0m \u001b[1;33m=\u001b[0m \u001b[0marray\u001b[0m\u001b[1;33m.\u001b[0m\u001b[0mastype\u001b[0m\u001b[1;33m(\u001b[0m\u001b[0mnp\u001b[0m\u001b[1;33m.\u001b[0m\u001b[0mfloat64\u001b[0m\u001b[1;33m)\u001b[0m\u001b[1;33m\u001b[0m\u001b[1;33m\u001b[0m\u001b[0m\n\u001b[0;32m    654\u001b[0m             \u001b[1;32mexcept\u001b[0m \u001b[0mValueError\u001b[0m \u001b[1;32mas\u001b[0m \u001b[0me\u001b[0m\u001b[1;33m:\u001b[0m\u001b[1;33m\u001b[0m\u001b[1;33m\u001b[0m\u001b[0m\n\u001b[1;32m--> 655\u001b[1;33m                 raise ValueError(\n\u001b[0m\u001b[0;32m    656\u001b[0m                     \u001b[1;34m\"Unable to convert array of bytes/strings \"\u001b[0m\u001b[1;33m\u001b[0m\u001b[1;33m\u001b[0m\u001b[0m\n\u001b[0;32m    657\u001b[0m                     \"into decimal numbers with dtype='numeric'\") from e\n",
      "\u001b[1;31mValueError\u001b[0m: Unable to convert array of bytes/strings into decimal numbers with dtype='numeric'"
     ]
    }
   ],
   "source": [
    "from sklearn.metrics import top_k_accuracy_score\n",
    "print(len(y_pred))\n",
    "print(\"准确率:\",precision_score(y_test, y_pred, average='micro'))\n",
    "print(\"召回率:\", recall_score(y_test, y_pred, average='micro'))\n",
    "print(\"fl-score:\", f1_score(y_test, y_pred, average='micro'))\n",
    "print('top3: ', top_k_accuracy_score(y_test, y_pred, k=3))\n",
    "\n",
    "print(classification_report(y_test, y_pred))"
   ]
  },
  {
   "cell_type": "code",
   "execution_count": null,
   "id": "secure-frame",
   "metadata": {},
   "outputs": [],
   "source": []
  }
 ],
 "metadata": {
  "kernelspec": {
   "display_name": "Python 3",
   "language": "python",
   "name": "python3"
  },
  "language_info": {
   "codemirror_mode": {
    "name": "ipython",
    "version": 3
   },
   "file_extension": ".py",
   "mimetype": "text/x-python",
   "name": "python",
   "nbconvert_exporter": "python",
   "pygments_lexer": "ipython3",
   "version": "3.8.8"
  }
 },
 "nbformat": 4,
 "nbformat_minor": 5
}
